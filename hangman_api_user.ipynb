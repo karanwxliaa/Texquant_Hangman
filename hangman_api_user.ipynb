{
 "cells": [
  {
   "cell_type": "markdown",
   "metadata": {},
   "source": [
    "# Trexquant Interview Project (The Hangman Game)\n",
    "\n",
    "* Copyright Trexquant Investment LP. All Rights Reserved. \n",
    "* Redistribution of this question without written consent from Trexquant is prohibited"
   ]
  },
  {
   "cell_type": "markdown",
   "metadata": {},
   "source": [
    "## Instruction:\n",
    "For this coding test, your mission is to write an algorithm that plays the game of Hangman through our API server. \n",
    "\n",
    "When a user plays Hangman, the server first selects a secret word at random from a list. The server then returns a row of underscores (space separated)—one for each letter in the secret word—and asks the user to guess a letter. If the user guesses a letter that is in the word, the word is redisplayed with all instances of that letter shown in the correct positions, along with any letters correctly guessed on previous turns. If the letter does not appear in the word, the user is charged with an incorrect guess. The user keeps guessing letters until either (1) the user has correctly guessed all the letters in the word\n",
    "or (2) the user has made six incorrect guesses.\n",
    "\n",
    "You are required to write a \"guess\" function that takes current word (with underscores) as input and returns a guess letter. You will use the API codes below to play 1,000 Hangman games. You have the opportunity to practice before you want to start recording your game results.\n",
    "\n",
    "Your algorithm is permitted to use a training set of approximately 250,000 dictionary words. Your algorithm will be tested on an entirely disjoint set of 250,000 dictionary words. Please note that this means the words that you will ultimately be tested on do NOT appear in the dictionary that you are given. You are not permitted to use any dictionary other than the training dictionary we provided. This requirement will be strictly enforced by code review.\n",
    "\n",
    "You are provided with a basic, working algorithm. This algorithm will match the provided masked string (e.g. a _ _ l e) to all possible words in the dictionary, tabulate the frequency of letters appearing in these possible words, and then guess the letter with the highest frequency of appearence that has not already been guessed. If there are no remaining words that match then it will default back to the character frequency distribution of the entire dictionary.\n",
    "\n",
    "This benchmark strategy is successful approximately 18% of the time. Your task is to design an algorithm that significantly outperforms this benchmark."
   ]
  },
  {
   "cell_type": "markdown",
   "metadata": {},
   "source": [
    "### 1. Data Analysis"
   ]
  },
  {
   "cell_type": "code",
   "execution_count": 2,
   "metadata": {},
   "outputs": [],
   "source": [
    "words = []\n",
    "with open('words_250000_train.txt', 'r') as file:\n",
    "    words = file.read().splitlines()"
   ]
  },
  {
   "cell_type": "code",
   "execution_count": 3,
   "metadata": {},
   "outputs": [
    {
     "name": "stdout",
     "output_type": "stream",
     "text": [
      "Total words: 227300\n"
     ]
    }
   ],
   "source": [
    "total_words = len(words)\n",
    "print(f\"Total words: {total_words}\")"
   ]
  },
  {
   "cell_type": "code",
   "execution_count": 4,
   "metadata": {},
   "outputs": [
    {
     "data": {
      "image/png": "[encoded data removed]",
      "text/plain": [
       "<Figure size 640x480 with 1 Axes>"
      ]
     },
     "metadata": {},
     "output_type": "display_data"
    }
   ],
   "source": [
    "from collections import Counter\n",
    "import matplotlib.pyplot as plt\n",
    "\n",
    "word_lengths = [len(word) for word in words]\n",
    "length_distribution = Counter(word_lengths)\n",
    "\n",
    "plt.bar(length_distribution.keys(), length_distribution.values())\n",
    "plt.xlabel('Word Length')\n",
    "plt.ylabel('Frequency')\n",
    "plt.title('Word Length Distribution')\n",
    "plt.show()"
   ]
  },
  {
   "cell_type": "code",
   "execution_count": 5,
   "metadata": {},
   "outputs": [
    {
     "name": "stdout",
     "output_type": "stream",
     "text": [
      "total number of vowels: 825684\n",
      "total number of consonants: 1299062\n"
     ]
    }
   ],
   "source": [
    "vowels = \"aeiou\"\n",
    "vowel_count = sum(char in vowels for word in words for char in word)\n",
    "consonant_count = sum(char not in vowels and char.isalpha() for word in words for char in word)\n",
    "\n",
    "print(f\"total number of vowels: {vowel_count}\")\n",
    "print(f\"total number of consonants: {consonant_count}\")\n"
   ]
  },
  {
   "cell_type": "code",
   "execution_count": 6,
   "metadata": {},
   "outputs": [
    {
     "name": "stdout",
     "output_type": "stream",
     "text": [
      "Average number of vowels per word: 3.63\n",
      "Average number of consonants per word: 5.72\n"
     ]
    }
   ],
   "source": [
    "avg_vowels_per_word = vowel_count / total_words\n",
    "avg_consonants_per_word = consonant_count / total_words\n",
    "\n",
    "print(f\"Average number of vowels per word: {avg_vowels_per_word:.2f}\")\n",
    "print(f\"Average number of consonants per word: {avg_consonants_per_word:.2f}\")\n"
   ]
  },
  {
   "cell_type": "code",
   "execution_count": 7,
   "metadata": {},
   "outputs": [
    {
     "data": {
      "text/plain": [
       "{3: 0.8518855065879146,\n",
       " 6: 2.3428176654214217,\n",
       " 4: 1.4808019670890864,\n",
       " 5: 1.9128969309916621,\n",
       " 8: 3.0884014186260345,\n",
       " 7: 2.7040619700940343,\n",
       " 10: 3.8893258635402366,\n",
       " 9: 3.482560020707953,\n",
       " 11: 4.281751952953568,\n",
       " 12: 4.690174936736715,\n",
       " 13: 5.102114850262427,\n",
       " 15: 5.91402801765496,\n",
       " 14: 5.498622273249139,\n",
       " 20: 7.888888888888889,\n",
       " 17: 6.690140845070423,\n",
       " 16: 6.2758510976773785,\n",
       " 2: 0.4318181818181818,\n",
       " 21: 8.061224489795919,\n",
       " 18: 7.089639115250291,\n",
       " 19: 7.45124716553288,\n",
       " 25: 9.666666666666666,\n",
       " 22: 8.545454545454545,\n",
       " 1: 0.17647058823529413,\n",
       " 23: 9.428571428571429,\n",
       " 29: 9.5,\n",
       " 24: 9.222222222222221,\n",
       " 28: 8.0,\n",
       " 27: 9.0}"
      ]
     },
     "execution_count": 7,
     "metadata": {},
     "output_type": "execute_result"
    }
   ],
   "source": [
    "from collections import defaultdict\n",
    "\n",
    "# initialize a dictionary to hold sums of vowel counts and word counts per word length\n",
    "vowel_counts_per_length = defaultdict(int)\n",
    "word_counts_per_length = defaultdict(int)\n",
    "\n",
    "# Define vowels\n",
    "vowels = \"aeiou\"\n",
    "\n",
    "for word in words:  \n",
    "    length = len(word)\n",
    "    vowel_count = sum(1 for char in word if char in vowels)\n",
    "    vowel_counts_per_length[length] += vowel_count\n",
    "    word_counts_per_length[length] += 1\n",
    "\n",
    "# Calculate the average number of vowels per word length\n",
    "avg_vowels_per_length = {length: vowel_counts_per_length[length] / word_counts_per_length[length] \n",
    "                         for length in vowel_counts_per_length}\n",
    "\n",
    "avg_vowels_per_length\n"
   ]
  },
  {
   "cell_type": "markdown",
   "metadata": {},
   "source": [
    "From this we can conclude that if the present vovels in the data is more than 3.63 (+1 for buffer) its better to guess a consonant."
   ]
  },
  {
   "cell_type": "markdown",
   "metadata": {},
   "source": [
    "### 2. Make an LSTM Model (on local) for the next word prediction \n",
    "For this we make a dataset of guessed vovels and try to guess the next consonant (as vovels are going to be our first guess)"
   ]
  },
  {
   "cell_type": "code",
   "execution_count": 8,
   "metadata": {},
   "outputs": [],
   "source": [
    "import numpy as np\n",
    "from tensorflow.keras.preprocessing.text import Tokenizer\n",
    "from tensorflow.keras.preprocessing.sequence import pad_sequences\n",
    "from tensorflow.keras.utils import to_categorical\n",
    "from tensorflow.keras.models import Sequential\n",
    "from tensorflow.keras.layers import LSTM, Embedding, Dense\n",
    "\n",
    "# # Load words from the file\n",
    "# with open('words_250000_train.txt', 'r') as file:\n",
    "#     words = file.read().splitlines()\n",
    "\n",
    "# # Function to generate partial words\n",
    "# def generate_vowel_guessed_words(word):\n",
    "#     vowels = \"aeiou\"\n",
    "#     # Replace consonants with underscores\n",
    "#     partial_word = ''.join([char if char in vowels else '_' for char in word])\n",
    "#     return partial_word\n"
   ]
  },
  {
   "cell_type": "code",
   "execution_count": 9,
   "metadata": {},
   "outputs": [],
   "source": [
    "# # Preparing dataset\n",
    "# partial_words = []\n",
    "# next_consonants  = []\n",
    "# vowels = \"aeiou\"\n",
    "\n",
    "\n",
    "# for word in words:\n",
    "#     partial_word = generate_vowel_guessed_words(word)\n",
    "#     # Identify the consonants that have not been guessed yet\n",
    "#     remaining_consonants = sorted(set(word) - set(vowels))\n",
    "    \n",
    "#     if remaining_consonants:\n",
    "#         # Add the partial word for each remaining consonant\n",
    "#         partial_words.extend([partial_word] * len(remaining_consonants))\n",
    "#         # Add the next consonant to guess\n",
    "#         next_consonants.extend(remaining_consonants)"
   ]
  },
  {
   "cell_type": "code",
   "execution_count": 10,
   "metadata": {},
   "outputs": [],
   "source": [
    "# tokenizer = Tokenizer(char_level=True)\n",
    "# tokenizer.fit_on_texts(words + partial_words + next_consonants)  # Fit tokenizer\n",
    "\n",
    "# # Convert texts to sequences\n",
    "# X_seqs = tokenizer.texts_to_sequences(partial_words)\n",
    "# y_seqs = tokenizer.texts_to_sequences(next_consonants)\n",
    "\n",
    "\n",
    "# #Commented out the training code\n",
    "# # Padding sequences\n",
    "# max_length = max([len(seq) for seq in X_seqs])  # Find max length for padding\n",
    "# X_padded = pad_sequences(X_seqs, maxlen=max_length, padding='pre')\n",
    "# # Convert y to categorical\n",
    "# y_categorical = to_categorical(y_seqs, num_classes=len(tokenizer.word_index) + 1)\n",
    "\n",
    "# # Splitting the data (assuming you want a simple train/test split)\n",
    "# from sklearn.model_selection import train_test_split\n",
    "# X_train, X_test, y_train, y_test = train_test_split(X_padded, np.array(y_categorical).squeeze(), test_size=0.2, random_state=42)\n"
   ]
  },
  {
   "cell_type": "code",
   "execution_count": 11,
   "metadata": {},
   "outputs": [],
   "source": [
    "# model = Sequential([\n",
    "#     Embedding(input_dim=len(tokenizer.word_index) + 1, output_dim=64, input_length=max_length),\n",
    "#     LSTM(128, return_sequences=False),\n",
    "#     Dense(len(tokenizer.word_index) + 1, activation='softmax')\n",
    "# ])\n",
    "\n",
    "# model.compile(optimizer='adam', loss='categorical_crossentropy', metrics=['accuracy'])\n",
    "# model.fit(X_train, y_train, epochs=5, batch_size=128, validation_data=(X_test, y_test))\n"
   ]
  },
  {
   "cell_type": "markdown",
   "metadata": {},
   "source": [
    "### Hangman API"
   ]
  },
  {
   "cell_type": "code",
   "execution_count": 12,
   "metadata": {
    "jupyter": {
     "outputs_hidden": true
    },
    "scrolled": true
   },
   "outputs": [],
   "source": [
    "import json\n",
    "import requests\n",
    "import random\n",
    "import string\n",
    "import secrets\n",
    "import time\n",
    "import re\n",
    "import collections\n",
    "\n",
    "try:\n",
    "    from urllib.parse import parse_qs, urlencode, urlparse\n",
    "except ImportError:\n",
    "    from urlparse import parse_qs, urlparse\n",
    "    from urllib import urlencode\n",
    "\n",
    "from requests.packages.urllib3.exceptions import InsecureRequestWarning\n",
    "\n",
    "requests.packages.urllib3.disable_warnings(InsecureRequestWarning)"
   ]
  },
  {
   "cell_type": "code",
   "execution_count": 21,
   "metadata": {},
   "outputs": [],
   "source": [
    "class HangmanAPI(object):\n",
    "    def __init__(self, access_token=None, session=None, timeout=None):\n",
    "        self.hangman_url = self.determine_hangman_url()\n",
    "        self.access_token = access_token\n",
    "        self.session = session or requests.Session()\n",
    "        self.timeout = timeout\n",
    "        self.guessed_letters = []\n",
    "\n",
    "        full_dictionary_location = \"words_250000_train.txt\"\n",
    "        self.full_dictionary = self.initial_build_dictionary(full_dictionary_location)\n",
    "        self.full_dictionary_common_letter_sorted = collections.Counter(\"\".join(self.full_dictionary)).most_common()\n",
    "\n",
    "        self.current_dictionary = []\n",
    "\n",
    "        self.n_word_dictionary = self.build_dictionary(self.full_dictionary)\n",
    "        self.avg_vowels_per_length = {1: 0.176, 2: 0.432, 3: 0.852, 4: 1.481, 5: 1.913, 6: 2.343, 7: 2.704, 8: 3.088, 9: 3.483, 10: 3.889, 11: 4.282, 12: 4.690, 13: 5.102, 14: 5.499, 15: 5.914, 16: 6.276, 17: 6.690, 18: 7.090, 19: 7.451, 20: 7.889, 21: 8.061, 22: 8.545, 23: 9.429, 24: 9.222, 25: 9.667, 27: 9.0, 28: 8.0, 29: 9.5}\n",
    "\n",
    "    @staticmethod\n",
    "\n",
    "    def determine_hangman_url():\n",
    "        links = ['https://trexsim.com', 'https://sg.trexsim.com']\n",
    "\n",
    "        data = {link: 0 for link in links}\n",
    "\n",
    "        for link in links:\n",
    "\n",
    "            requests.get(link)\n",
    "\n",
    "            for i in range(10):\n",
    "                s = time.time()\n",
    "                requests.get(link)\n",
    "                data[link] = time.time() - s\n",
    "\n",
    "        link = sorted(data.items(), key=lambda x: x[1])[0][0]\n",
    "        link += '/trexsim/hangman'\n",
    "        return link\n",
    "\n",
    "    @staticmethod\n",
    "    def initial_build_dictionary(dictionary_file_location):\n",
    "        with open(dictionary_file_location, \"r\") as text_file:\n",
    "            return text_file.read().splitlines()\n",
    "\n",
    "    def build_dictionary(self, word_list):\n",
    "        max_length = max(len(word) for word in word_list)\n",
    "        n_word_dict = {i: [] for i in range(3, max_length + 1)}\n",
    "\n",
    "        for word in word_list:\n",
    "            for count in range(3, len(word) + 1):\n",
    "                n_word_dict[count].extend(word[i:i + count] for i in range(len(word) - count + 1))\n",
    "\n",
    "        return n_word_dict\n",
    "\n",
    "    @staticmethod\n",
    "    def vowel_count(word):\n",
    "        vowels = \"aeiou\"\n",
    "        return sum(char in vowels for char in word) if word else 0\n",
    "\n",
    "    @staticmethod\n",
    "    def filter_and_count_letters(words):\n",
    "        letter_counter = collections.Counter()\n",
    "        for word in words:\n",
    "            letter_counter.update(set(word))\n",
    "        return letter_counter\n",
    "\n",
    "    def find_matching_words(self, pattern, word_list):\n",
    "        regex = re.compile(pattern)\n",
    "        return [word for word in word_list if regex.match(word)]\n",
    "\n",
    "    def guess(self, word):\n",
    "        pattern = word[::2].replace(\"_\", \".\")\n",
    "        len_word = len(pattern)\n",
    "        clean_word_count = self.vowel_count(pattern)\n",
    "        # average vowels for the specific length or use default\n",
    "        avg_vowels = self.avg_vowels_per_length.get(len_word,4)\n",
    "        \n",
    "\n",
    "        def make_guess_from(words):\n",
    "            letter_counts = self.filter_and_count_letters(words)\n",
    "            for letter, _ in letter_counts.most_common():\n",
    "\n",
    "                # Logging variable states to a text file\n",
    "                with open('log.txt', 'a') as log_file:  # 'a' mode to append to the end of the file\n",
    "                    log_file.write(f\"Letter: {letter}, Type of Letter: {type(letter)}, Clean Word Count: {clean_word_count}, Avg Vowels: {avg_vowels}\\n\")\n",
    "\n",
    "                if letter not in self.guessed_letters:\n",
    "                    if letter in \"aeiou\" and clean_word_count > avg_vowels+0.5: #+.5 for buffer\n",
    "                        self.guessed_letters.append(letter)\n",
    "                    else:\n",
    "                        return letter\n",
    "            return '/'\n",
    "\n",
    "        filtered_words = self.find_matching_words(pattern, self.current_dictionary)\n",
    "        self.current_dictionary = filtered_words\n",
    "\n",
    "        guess_letter = make_guess_from(filtered_words)\n",
    "        if guess_letter == '/':\n",
    "            for x in [int(len(pattern) / 2), int(len(pattern) / 3)]:\n",
    "                if x >= 3:\n",
    "                    segment_words = []\n",
    "                    for i in range(len(pattern) - x + 1):\n",
    "                        segment = pattern[i:i + x]\n",
    "                        segment_words.extend(self.find_matching_words(segment, self.n_word_dictionary.get(x, [])))\n",
    "                    guess_letter = make_guess_from(segment_words)\n",
    "                    if guess_letter != '/':\n",
    "                        break\n",
    "\n",
    "        if guess_letter == '/':\n",
    "            guess_letter = make_guess_from(self.full_dictionary_common_letter_sorted)\n",
    "        \n",
    "        if guess_letter != '/':\n",
    "            return guess_letter\n",
    "        else:\n",
    "            return self.late_guess_strategy(pattern)\n",
    "\n",
    "\n",
    "    def late_guess_strategy(self, clean_word):\n",
    "        sequence = tokenizer.texts_to_sequences([clean_word])[0]\n",
    "        padded_sequence = pad_sequences([sequence], maxlen=10, padding='pre')\n",
    "        \n",
    "        #using local model with attached training code\n",
    "        prediction = model.predict(padded_sequence)\n",
    "        next_index = np.argmax(prediction, axis=-1)[0]\n",
    "        next_letter = tokenizer.index_word.get(next_index, ' ')\n",
    "        \n",
    "        if next_letter not in self.guessed_letters:\n",
    "            return next_letter\n",
    "        else:\n",
    "            # Fallback to next most common letter if LSTM's guess is already guessed\n",
    "            for letter, _ in sorted(tokenizer.word_index.items(), key=lambda x: prediction[0][x[1]], reverse=True):\n",
    "                if letter not in self.guessed_letters:\n",
    "                    return letter\n",
    "\n",
    "\n",
    "    def build_common_letter_sorted_list(self, dictionary_file_location):\n",
    "        with open(dictionary_file_location, \"r\") as file:\n",
    "            words = file.read().splitlines()\n",
    "        letter_counts = self.filter_and_count_letters(words)\n",
    "        return letter_counts.most_common()\n",
    "\n",
    "\n",
    "\n",
    "    def start_game(self, practice=True, verbose=True):\n",
    "        # reset guessed letters to empty set and current plausible dictionary to the full dictionary\n",
    "        self.guessed_letters = []\n",
    "        self.current_dictionary = self.full_dictionary\n",
    "\n",
    "        response = self.request(\"/new_game\", {\"practice\":practice})\n",
    "        if response.get('status')==\"approved\":\n",
    "            game_id = response.get('game_id')\n",
    "            word = response.get('word')\n",
    "            tries_remains = response.get('tries_remains')\n",
    "            if verbose:\n",
    "                print(\"Successfully start a new game! Game ID: {0}. # of tries remaining: {1}. Word: {2}.\".format(game_id, tries_remains, word))\n",
    "            while tries_remains>0:\n",
    "                # get guessed letter from user code\n",
    "                guess_letter = self.guess(word)\n",
    "\n",
    "                # append guessed letter to guessed letters field in hangman object\n",
    "                self.guessed_letters.append(guess_letter)\n",
    "                if verbose:\n",
    "                    print(\"Guessing letter: {0}\".format(guess_letter))\n",
    "\n",
    "                try:\n",
    "                    res = self.request(\"/guess_letter\", {\"request\":\"guess_letter\", \"game_id\":game_id, \"letter\":guess_letter})\n",
    "                except HangmanAPIError:\n",
    "                    print('HangmanAPIError exception caught on request.')\n",
    "                    continue\n",
    "                except Exception as e:\n",
    "                    print('Other exception caught on request.')\n",
    "                    raise e\n",
    "\n",
    "                if verbose:\n",
    "                    print(\"Sever response: {0}\".format(res))\n",
    "                status = res.get('status')\n",
    "                tries_remains = res.get('tries_remains')\n",
    "                if status==\"success\":\n",
    "                    if verbose:\n",
    "                        print(\"Successfully finished game: {0}\".format(game_id))\n",
    "                    return True\n",
    "                elif status==\"failed\":\n",
    "                    reason = res.get('reason', '# of tries exceeded!')\n",
    "                    if verbose:\n",
    "                        print(\"Failed game: {0}. Because of: {1}\".format(game_id, reason))\n",
    "                    return False\n",
    "                elif status==\"ongoing\":\n",
    "                    word = res.get('word')\n",
    "        else:\n",
    "            if verbose:\n",
    "                print(\"Failed to start a new game\")\n",
    "        return status==\"success\"\n",
    "\n",
    "    def my_status(self):\n",
    "        return self.request(\"/my_status\", {})\n",
    "\n",
    "    def request(\n",
    "            self, path, args=None, post_args=None, method=None):\n",
    "        if args is None:\n",
    "            args = dict()\n",
    "        if post_args is not None:\n",
    "            method = \"POST\"\n",
    "\n",
    "        # Add `access_token` to post_args or args if it has not already been\n",
    "        # included.\n",
    "        if self.access_token:\n",
    "            # If post_args exists, we assume that args either does not exists\n",
    "            # or it does not need `access_token`.\n",
    "            if post_args and \"access_token\" not in post_args:\n",
    "                post_args[\"access_token\"] = self.access_token\n",
    "            elif \"access_token\" not in args:\n",
    "                args[\"access_token\"] = self.access_token\n",
    "\n",
    "        try:\n",
    "            # response = self.session.request(\n",
    "            response = requests.request(\n",
    "                method or \"GET\",\n",
    "                self.hangman_url + path,\n",
    "                timeout=self.timeout,\n",
    "                params=args,\n",
    "                data=post_args)\n",
    "        except requests.HTTPError as e:\n",
    "            response = json.loads(e.read())\n",
    "            raise HangmanAPIError(response)\n",
    "\n",
    "        headers = response.headers\n",
    "        if 'json' in headers['content-type']:\n",
    "            result = response.json()\n",
    "        elif \"access_token\" in parse_qs(response.text):\n",
    "            query_str = parse_qs(response.text)\n",
    "            if \"access_token\" in query_str:\n",
    "                result = {\"access_token\": query_str[\"access_token\"][0]}\n",
    "                if \"expires\" in query_str:\n",
    "                    result[\"expires\"] = query_str[\"expires\"][0]\n",
    "            else:\n",
    "                raise HangmanAPIError(response.json())\n",
    "        else:\n",
    "            raise HangmanAPIError('Maintype was not text, or querystring')\n",
    "\n",
    "        if result and isinstance(result, dict) and result.get(\"error\"):\n",
    "            raise HangmanAPIError(result)\n",
    "        return result\n",
    "\n",
    "class HangmanAPIError(Exception):\n",
    "    def __init__(self, result):\n",
    "        self.result = result\n",
    "        self.code = None\n",
    "        try:\n",
    "            self.type = result[\"error_code\"]\n",
    "        except (KeyError, TypeError):\n",
    "            self.type = \"\"\n",
    "\n",
    "        try:\n",
    "            self.message = result[\"error_description\"]\n",
    "        except (KeyError, TypeError):\n",
    "            try:\n",
    "                self.message = result[\"error\"][\"message\"]\n",
    "                self.code = result[\"error\"].get(\"code\")\n",
    "                if not self.type:\n",
    "                    self.type = result[\"error\"].get(\"type\", \"\")\n",
    "            except (KeyError, TypeError):\n",
    "                try:\n",
    "                    self.message = result[\"error_msg\"]\n",
    "                except (KeyError, TypeError):\n",
    "                    self.message = result\n",
    "\n",
    "        Exception.__init__(self, self.message)"
   ]
  },
  {
   "cell_type": "code",
   "execution_count": 14,
   "metadata": {},
   "outputs": [],
   "source": [
    "from tensorflow.keras.models import load_model\n",
    "\n",
    "# Load the model\n",
    "model = load_model('my_lstm_model.h5')\n",
    "# Load dataset\n",
    "with open('words_250000_train.txt', 'r') as file:\n",
    "    words = file.read().splitlines()\n",
    "\n",
    "# Character tokenization\n",
    "tokenizer = Tokenizer(char_level=True)\n",
    "tokenizer.fit_on_texts(words)\n",
    "\n",
    "# Convert words to sequences of integers\n",
    "sequences = tokenizer.texts_to_sequences(words)\n"
   ]
  },
  {
   "cell_type": "markdown",
   "metadata": {},
   "source": [
    "# API Usage Examples"
   ]
  },
  {
   "cell_type": "markdown",
   "metadata": {},
   "source": [
    "## To start a new game:\n",
    "1. Make sure you have implemented your own \"guess\" method.\n",
    "2. Use the access_token that we sent you to create your HangmanAPI object. \n",
    "3. Start a game by calling \"start_game\" method.\n",
    "4. If you wish to test your function without being recorded, set \"practice\" parameter to 1.\n",
    "5. Note: You have a rate limit of 20 new games per minute. DO NOT start more than 20 new games within one minute."
   ]
  },
  {
   "cell_type": "code",
   "execution_count": 22,
   "metadata": {
    "jupyter": {
     "outputs_hidden": true
    }
   },
   "outputs": [],
   "source": [
    "api = HangmanAPI(access_token=\"6f22a019bde0f94008a3ad7b319ad2\", timeout=2000)\n"
   ]
  },
  {
   "cell_type": "markdown",
   "metadata": {},
   "source": [
    "## Playing practice games:\n",
    "You can use the command below to play up to 100,000 practice games."
   ]
  },
  {
   "cell_type": "code",
   "execution_count": 23,
   "metadata": {
    "jupyter": {
     "outputs_hidden": true
    },
    "scrolled": true
   },
   "outputs": [
    {
     "name": "stdout",
     "output_type": "stream",
     "text": [
      "Successfully start a new game! Game ID: 9487751c88c8. # of tries remaining: 6. Word: _ _ _ _ _ _ _ _ _ _ _ _ _ .\n",
      "Guessing letter: i\n",
      "Sever response: {'game_id': '9487751c88c8', 'status': 'ongoing', 'tries_remains': 6, 'word': '_ _ _ _ i _ _ _ _ i _ _ _ '}\n",
      "Guessing letter: a\n",
      "Sever response: {'game_id': '9487751c88c8', 'status': 'ongoing', 'tries_remains': 6, 'word': '_ _ _ _ i _ _ _ _ i _ a _ '}\n",
      "Guessing letter: c\n",
      "Sever response: {'game_id': '9487751c88c8', 'status': 'ongoing', 'tries_remains': 6, 'word': 'c _ c c i _ _ _ _ i _ a _ '}\n",
      "Guessing letter: t\n",
      "Sever response: {'game_id': '9487751c88c8', 'status': 'ongoing', 'tries_remains': 5, 'word': 'c _ c c i _ _ _ _ i _ a _ '}\n",
      "Guessing letter: n\n",
      "Sever response: {'game_id': '9487751c88c8', 'status': 'ongoing', 'tries_remains': 5, 'word': 'c _ c c i n _ _ _ i _ a _ '}\n",
      "Guessing letter: l\n",
      "Sever response: {'game_id': '9487751c88c8', 'status': 'ongoing', 'tries_remains': 5, 'word': 'c _ c c i n _ l l i _ a _ '}\n",
      "Guessing letter: e\n",
      "Sever response: {'game_id': '9487751c88c8', 'status': 'ongoing', 'tries_remains': 5, 'word': 'c _ c c i n e l l i _ a e '}\n",
      "Guessing letter: d\n",
      "Sever response: {'game_id': '9487751c88c8', 'status': 'ongoing', 'tries_remains': 5, 'word': 'c _ c c i n e l l i d a e '}\n",
      "Guessing letter: o\n",
      "Sever response: {'game_id': '9487751c88c8', 'status': 'success', 'tries_remains': 5, 'word': 'c o c c i n e l l i d a e '}\n",
      "Successfully finished game: 9487751c88c8\n",
      "run 904 practice games out of an allotted 100,000. practice success rate so far = 0.387\n"
     ]
    }
   ],
   "source": [
    "api.start_game(practice=1,verbose=True)\n",
    "[total_practice_runs,total_recorded_runs,total_recorded_successes,total_practice_successes] = api.my_status() # Get my game stats: (# of tries, # of wins)\n",
    "practice_success_rate = total_practice_successes / total_practice_runs\n",
    "print('run %d practice games out of an allotted 100,000. practice success rate so far = %.3f' % (total_practice_runs, practice_success_rate))\n"
   ]
  },
  {
   "cell_type": "code",
   "execution_count": null,
   "metadata": {},
   "outputs": [],
   "source": [
    "# Set the target practice success rate\n",
    "target_success_rate = 0.6\n",
    "\n",
    "# Continue the loop until the practice success rate reaches the target\n",
    "while practice_success_rate < target_success_rate and total_practice_runs < 100000:\n",
    "    # Start a new game\n",
    "\n",
    "    api.start_game(practice=1, verbose=True)\n",
    "\n",
    "\n",
    "    # Get updated game stats\n",
    "    [total_practice_runs, total_recorded_runs, total_recorded_successes, total_practice_successes] = api.my_status()\n",
    "\n",
    "    # Calculate the practice success rate\n",
    "    practice_success_rate = total_practice_successes / total_practice_runs\n",
    "\n",
    "    # Print the current status\n",
    "    print('run %d practice games out of an allotted 100,000. practice success rate so far = %.3f' % (total_practice_runs, practice_success_rate))\n",
    "\n",
    "# Print a message when the loop exits\n",
    "if practice_success_rate >= target_success_rate:\n",
    "    print(\"Achieved the target practice success rate of %.3f!\" % target_success_rate)\n",
    "else:\n",
    "    print(\"Exceeded the maximum allowed practice games (100,000) without reaching the target success rate.\")"
   ]
  },
  {
   "cell_type": "markdown",
   "metadata": {},
   "source": [
    "## Playing recorded games:\n",
    "Please finalize your code prior to running the cell below. Once this code executes once successfully your submission will be finalized. Our system will not allow you to rerun any additional games.\n",
    "\n",
    "Please note that it is expected that after you successfully run this block of code that subsequent runs will result in the error message \"Your account has been deactivated\".\n",
    "\n",
    "Once you've run this section of the code your submission is complete. Please send us your source code via email."
   ]
  },
  {
   "cell_type": "code",
   "execution_count": null,
   "metadata": {
    "jupyter": {
     "outputs_hidden": true
    }
   },
   "outputs": [],
   "source": [
    "for i in range(990,1000):\n",
    "    print('Playing ', i, ' th game')\n",
    "    # Uncomment the following line to execute your final runs. Do not do this until you are satisfied with your submission\n",
    "    api.start_game(practice=0,verbose=False)\n",
    "    \n",
    "    # DO NOT REMOVE as otherwise the server may lock you out for too high frequency of requests\n",
    "    time.sleep(0.5)"
   ]
  },
  {
   "cell_type": "code",
   "execution_count": null,
   "metadata": {
    "jupyter": {
     "outputs_hidden": true
    }
   },
   "outputs": [],
   "source": []
  },
  {
   "cell_type": "markdown",
   "metadata": {},
   "source": [
    "## To check your game statistics\n",
    "1. Simply use \"my_status\" method.\n",
    "2. Returns your total number of games, and number of wins."
   ]
  },
  {
   "cell_type": "code",
   "execution_count": 34,
   "metadata": {
    "jupyter": {
     "outputs_hidden": true
    }
   },
   "outputs": [
    {
     "name": "stdout",
     "output_type": "stream",
     "text": [
      "overall success rate = 59.000\n"
     ]
    }
   ],
   "source": [
    "[total_practice_runs,total_recorded_runs,total_recorded_successes,total_practice_successes] = api.my_status() # Get my game stats: (# of tries, # of wins)\n",
    "success_rate = total_recorded_successes/total_recorded_runs\n",
    "print('overall success rate = %.3f' % success_rate)"
   ]
  },
  {
   "cell_type": "code",
   "execution_count": null,
   "metadata": {
    "jupyter": {
     "outputs_hidden": true
    }
   },
   "outputs": [],
   "source": []
  }
 ],
 "metadata": {
  "kernelspec": {
   "display_name": "Python 3",
   "language": "python",
   "name": "python3"
  },
  "language_info": {
   "codemirror_mode": {
    "name": "ipython",
    "version": 3
   },
   "file_extension": ".py",
   "mimetype": "text/x-python",
   "name": "python",
   "nbconvert_exporter": "python",
   "pygments_lexer": "ipython3",
   "version": "3.9.18"
  }
 },
 "nbformat": 4,
 "nbformat_minor": 4
}
